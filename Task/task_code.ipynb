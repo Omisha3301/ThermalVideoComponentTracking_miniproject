{
 "cells": [
  {
   "cell_type": "code",
   "execution_count": 255,
   "metadata": {},
   "outputs": [],
   "source": [
    "import cv2\n",
    "import numpy as np\n",
    "from collections import defaultdict\n",
    "import matplotlib.pyplot as plt\n",
    "import sys"
   ]
  },
  {
   "cell_type": "code",
   "execution_count": 256,
   "metadata": {},
   "outputs": [],
   "source": [
    "def find_connected_components(frame):\n",
    "    gray = cv2.cvtColor(frame, cv2.COLOR_BGR2GRAY)\n",
    "    blur = cv2.GaussianBlur(gray, (5, 5), 0)\n",
    "    thresh = cv2.threshold(blur, 100, 255, cv2.THRESH_BINARY)[1]\n",
    "    num_labels, labels, stats, centroids = cv2.connectedComponentsWithStats(thresh, connectivity=8)\n",
    "    return num_labels, labels, stats, centroids,thresh"
   ]
  },
  {
   "cell_type": "markdown",
   "metadata": {},
   "source": [
    "The find_connected_components(frame) function finds 8 connected components in the frame given in parameter\n",
    "\n",
    "It performs pre-image processing to the frame converting it to gray scale, applying gaussian blur and then converting the frame to a binary image. The connectedComponentsWithStats() function inputs a binary image and returns (the number of components found, the x,y coordinates and the height and width(location of component)).While the component found is of irregular shape the stats provide us with a rectangle area of the frame in which component is located.\n",
    "\n",
    "ISSUE:There is considerable data loss while converting Grayscale Image to Binary Image(components with lower intensity not detected)as accodring to task all components should be detected.FIX THRESHOLD VALUES.(???)"
   ]
  },
  {
   "cell_type": "code",
   "execution_count": 257,
   "metadata": {},
   "outputs": [],
   "source": [
    "def draw_box(frame, stats):\n",
    "    for label, stat in stats.items():\n",
    "        x, y, w, h = stat[:4]  \n",
    "        cv2.rectangle(frame, (x, y), (x+w, y+h), (0, 255, 0), 2)"
   ]
  },
  {
   "cell_type": "markdown",
   "metadata": {},
   "source": [
    "The draw_box(frame, stats) function draws a bounding box around the components being tracked."
   ]
  },
  {
   "cell_type": "code",
   "execution_count": 258,
   "metadata": {},
   "outputs": [],
   "source": [
    "def plot_frequency_domain(component_intensity, fps):\n",
    "    for label, intensity in component_intensity.items():\n",
    "        n = len(intensity)\n",
    "        T = 1 / fps\n",
    "        yf = np.fft.fft(intensity)\n",
    "        xf = np.linspace(0.0, 1.0/(2.0*T), n//2)\n",
    "        plt.plot(xf, 2.0/n * np.abs(yf[:n//2]))\n",
    "        plt.title(f'Frequency Domain for Component {label}')\n",
    "        plt.xlabel('Frequency (Hz)')\n",
    "        plt.ylabel('Amplitude')\n",
    "        plt.xticks(np.arange(0, max(xf) + 1, step=1))\n",
    "        plt.show()"
   ]
  },
  {
   "cell_type": "markdown",
   "metadata": {},
   "source": [
    "The plot_frequency_domain(component_intensity, fps) function takes the list component_intensity and plots the frquency domain graph of mean intencities of components in the 1 minute in which values have been recorded.\n",
    "\n",
    "Frequency domain graphs show how the component_intensity values are distributed within different frequency bands over a range of frequencies.Therefore these plots could be used to figure out which components have their frequencies in the 0-1Hz band.(???)"
   ]
  },
  {
   "cell_type": "code",
   "execution_count": 259,
   "metadata": {},
   "outputs": [],
   "source": [
    "\n",
    "def main(video):\n",
    "    cap = cv2.VideoCapture(video)\n",
    "    fps = cap.get(cv2.CAP_PROP_FPS)\n",
    "    total_frames = int(cap.get(cv2.CAP_PROP_FRAME_COUNT))\n",
    "\n",
    "    tracked_components = defaultdict(dict) # saves the stats of the components being tracked \n",
    "    component_intensity = defaultdict(list)# saves the mean intensity of a component at each frame\n",
    "    results = defaultdict(list)\n","\n",
    "    #loops through all the frames in the video\n",
    "    for frame_index in range(total_frames):\n",
    "        cap.set(cv2.CAP_PROP_POS_FRAMES, frame_index)  \n",
    "        \n",
    "        ret, frame = cap.read()\n",
    "        if not ret:\n",
    "            break\n","\n",
    "        #true when 1 minute has passed (512 frames) it calls the find_connected_components(frame) function and gets the components to be tracked for the next minute \n",
    "        #then the results that were tracked in the previous minute are printed.\n",
    "        if frame_index % int(512) == 0:\n",
    "            #connected compnents recalculated\n",
    "            print(f\"TOTAL NUMBER OF COMPONENTS THAT HAVE BEEN TRACKED {num_labels}:\") if frame_index!=0 else print(\"\")\n",
    "            num_labels, labels, stats, _ ,t= find_connected_components(frame)\n",
    "            k=0\n","\n",
    "            #printing the mean intensity of each component frame by frame\n",
    "            for label, intensity in results.items():\n",
    "                print(f\"Results for component {label}:\")\n",
    "                for frame_index,l, m_intensity in intensity:\n",
    "                    print(f\"Frame {frame_index}: Intensity of Component {m_intensity}\")\n","\n",
    "            # printing graph\n",
    "            plot_frequency_domain(component_intensity, fps)\n","\n",
    "            # resets the lists and dictionaries\n",
    "            tracked_components.clear()\n",
    "            component_intensity.clear()\n",
    "            results.clear()   \n","\n",
    "        #loops through all the components and finds the mean intensity of the component in that frame and append this value to the component_intensity list.\n",
    "        for label in range(1, num_labels):\n",
    "            x, y, w, h, _ = stats[label]  \n",
    "            label_mask = (labels == label).astype(np.uint8) \n",
    "            mean_intensity = cv2.mean(frame, mask=label_mask)[0]\n",
    "            tracked_components[label] = (x, y, w, h)\n",
    "            component_intensity[label].append(mean_intensity)\n","\n",
    "        #appends all relevant information extracted from that frame to results so that it can be easily printed.\n",
    "        for label, (x, y, w, h) in tracked_components.items():\n",
    "                results[label].append((frame_index,label, component_intensity[label][k]))\n",
    "        k+=1    \n",
    "        \n",
    "        # bounding boxes for components being tracked\n",
    "        for label, (x, y, w, h) in tracked_components.items():\n",
    "            draw_box(frame, {label: (x, y, w, h)})\n",
    "                \n",
    "        # video display\n",
    "        cv2.imshow('Frame', frame)\n",
    "        if cv2.waitKey(25) & 0xFF == ord('q'):\n",
    "             break\n",
    "\n",
    "    \n",
    "    cap.release()\n",
    "    cv2.destroyAllWindows()\n"
   ]
  },
  {
   "cell_type": "markdown",
   "metadata": {},
   "source": [
    "The main outer for loop loops through all the frames in the video\n",
    "\n",
    "The if statement is true when 1 minute has passed it calls the find_connected_components(frame) function and gets the components to be tracked for the next minute then the results that were tracked in the previous minute are printed.\n",
    "\n",
    "The for loop loops through all the components and finds the mean intensity of the component in that frame and append this value to the component_intensity list.\n",
    "\n",
    "The for loop appends all relevant information extracted from that frame to results so that it can be easily printed."
   ]
  },
  {
   "cell_type": "code",
   "execution_count": null,
   "metadata": {},
   "outputs": [],
   "source": [
    "\n",
    "if __name__ == \"__main__\":\n",
    "    video = '1705951007967.mp4'  \n",
    "    main(video)\n"
   ]
  }
 ],
 "metadata": {
  "kernelspec": {
   "display_name": "Python 3",
   "language": "python",
   "name": "python3"
  },
  "language_info": {
   "codemirror_mode": {
    "name": "ipython",
    "version": 3
   },
   "file_extension": ".py",
   "mimetype": "text/x-python",
   "name": "python",
   "nbconvert_exporter": "python",
   "pygments_lexer": "ipython3",
   "version": "3.12.0"
  }
 },
 "nbformat": 4,
 "nbformat_minor": 2
}
